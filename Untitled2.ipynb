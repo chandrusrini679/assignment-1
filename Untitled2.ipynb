{
  "nbformat": 4,
  "nbformat_minor": 0,
  "metadata": {
    "colab": {
      "provenance": [],
      "authorship_tag": "ABX9TyNozzzhs60Wyou6kiphXUiG",
      "include_colab_link": true
    },
    "kernelspec": {
      "name": "python3",
      "display_name": "Python 3"
    },
    "language_info": {
      "name": "python"
    }
  },
  "cells": [
    {
      "cell_type": "markdown",
      "metadata": {
        "id": "view-in-github",
        "colab_type": "text"
      },
      "source": [
        "<a href=\"https://colab.research.google.com/github/chandrusrini679/assignment-1/blob/main/Untitled2.ipynb\" target=\"_parent\"><img src=\"https://colab.research.google.com/assets/colab-badge.svg\" alt=\"Open In Colab\"/></a>"
      ]
    },
    {
      "cell_type": "code",
      "source": [
        "class write:\n",
        "  def __init__(self,username,password):\n",
        "         self.username=username\n",
        "         self.password=password\n",
        "  def __init__(self,username,password):\n",
        "        self.username=\"franklin\"\n",
        "        self.password=\"abcdws\"\n",
        "  def __init__(self,username,password):\n",
        "        self.username=\"gokul\"\n",
        "        self.password=\"frllmn\"\n",
        "  def __init__ (self,username,password):\n",
        "        self.username=\"harish\"\n",
        "        self.password=\"efdghi\"\n",
        "  def __init__ (self,username,password):\n",
        "        self.username=\"prank\"\n",
        "        self.password=\"bcdlbw\"\n",
        "  def __init__ (self,username,password):\n",
        "        self.username=\"virat\"\n",
        "        self.password=\"ghijkl\"\n",
        "  def __init__ (self,username,password):\n",
        "        self.username=\"kholi\"\n",
        "        self.password=\"abdefg\" \n",
        "  def __init__ (self,username,password):\n",
        "        self.username=\"raina\"\n",
        "        self.password=\"chennai\"\n",
        "  def __init__ (self,username,password):\n",
        "        self.username=\"vijay\"\n",
        "        self.password=\"tnpscl\"\n",
        "  def __init__ (self,username,password):\n",
        "        self.username=\"murali\"\n",
        "        self.password=\"trichy\"     \n",
        "  def __init__ (self,username,password):\n",
        "        self.username=\"ashwin\"\n",
        "        self.password=\"kalaua\"\n",
        "  "
      ],
      "metadata": {
        "id": "SFptpNld64OC"
      },
      "execution_count": null,
      "outputs": []
    },
    {
      "cell_type": "code",
      "source": [
        "f=open(\"sample.text\",\"w\") \n",
        "f.write( \"Mary enjoys cooking \\nshe likes bananas\\nI have no money at the momentStop talking and open your book \\nYou always want to play games or get attention from me while I’m studying or busy at work \\nI usually eat popcorns for a snack before my dinner \\nWhen I go to a cyclist these days,the rider is always busy\\nI surely think it will be like this today \\nRecently announced data are undoubtedly extremely inaccurate\\nShe’s been this city since yesterday\\nDo you believe my father now?.\")\n",
        "f.close()"
      ],
      "metadata": {
        "id": "SRq-hjq0vIHs"
      },
      "execution_count": null,
      "outputs": []
    },
    {
      "cell_type": "code",
      "source": [
        "import re \n",
        "email=input(\"Enter email:\")\n",
        "password=input(\"Enter password:\")\n",
        "email_cond='[a-zA-Z]+@[a-zA-z]+.com'\n",
        "def check(email):\n",
        "      if re.search(\"^1\",email):\n",
        "        print(\"login failed\")\n",
        "        if(re.fullmatch(email_cond,email)):\n",
        "            print(\"login\")\n",
        "        else:\n",
        "            print(\"login failed\")\n",
        "email1=input(\"enter email:\")\n",
        "password1=input(\"enter password:\")\n",
        "check(email)\n",
        "check(password)"
      ],
      "metadata": {
        "id": "BTE6c20FO2Zl"
      },
      "execution_count": null,
      "outputs": []
    },
    {
      "cell_type": "code",
      "source": [
        "A={ abc@gmail.com:{\"name\":\"gokul\",\"age\":24,id:56,\"salary\":300000},{xyz@xyz.com:{\"name\":\"harish\",\"age\":32,id:345,\"salary\":50000}}\n",
        "if ==A:\n",
        "  print(\"validation successfully\")\n",
        "else:\n",
        "  print(\"invalid  failed\")\n",
        "while True:\n",
        "   print(\"Select options from below\")\n",
        "    print(\"\\n 1-edit\\n 2-delete \\n viewer \")\n",
        "    option=int(input())\n",
        "    if option==1:\n",
        "        email()\n",
        "    elif option==2:\n",
        "        \n",
        "\n",
        "\n"
      ],
      "metadata": {
        "id": "4lPsbn09yqwI",
        "colab": {
          "base_uri": "https://localhost:8080/",
          "height": 130
        },
        "outputId": "9b9827da-49a5-4819-d6e5-0bc7f7238c15"
      },
      "execution_count": null,
      "outputs": [
        {
          "output_type": "error",
          "ename": "SyntaxError",
          "evalue": "ignored",
          "traceback": [
            "\u001b[0;36m  File \u001b[0;32m\"<ipython-input-1-aa09e94c19d2>\"\u001b[0;36m, line \u001b[0;32m2\u001b[0m\n\u001b[0;31m    if ==A:\u001b[0m\n\u001b[0m        ^\u001b[0m\n\u001b[0;31mSyntaxError\u001b[0m\u001b[0;31m:\u001b[0m invalid syntax\n"
          ]
        }
      ]
    }
  ]
}